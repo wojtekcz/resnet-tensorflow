{
 "cells": [
  {
   "cell_type": "code",
   "execution_count": 21,
   "metadata": {
    "collapsed": false
   },
   "outputs": [
    {
     "data": {
      "application/javascript": [
       "IPython.notebook.set_autosave_interval(0)"
      ]
     },
     "metadata": {},
     "output_type": "display_data"
    },
    {
     "name": "stdout",
     "output_type": "stream",
     "text": [
      "Autosave disabled\n"
     ]
    }
   ],
   "source": [
    "import os.path\n",
    "import numpy as np\n",
    "import tensorflow as tf\n",
    "import matplotlib.pyplot as plt\n",
    "import pickle\n",
    "\n",
    "%matplotlib inline\n",
    "%config InlineBackend.figure_format = 'retina'\n",
    "%autosave 0"
   ]
  },
  {
   "cell_type": "code",
   "execution_count": 77,
   "metadata": {
    "collapsed": false
   },
   "outputs": [],
   "source": [
    "resnet_graph = tf.Graph()\n",
    "with resnet_graph.as_default():\n",
    "    saver = tf.train.import_meta_graph('./checkpoints/checkpoint_780.chk.meta')\n",
    "\n",
    "with tf.Session(graph=resnet_graph) as sess:\n",
    "    saver.restore(sess, './checkpoints/checkpoint_780.chk')\n",
    "#     filename = 'data/apple/apple_s_000022.png'\n",
    "#     image = ndimage.imread(filename)\n",
    "#     feed_dict = {inputs: [image]}\n",
    "#     guess = sess.run(prediction, feed_dict=feed_dict)\n",
    "#     if guess[0] == 1:\n",
    "#         print('Guess: hamster')\n",
    "#     else:\n",
    "#         print('Guess: hare')\n",
    "#     plt.imshow(image)\n",
    "#     plt.show()\n"
   ]
  },
  {
   "cell_type": "code",
   "execution_count": null,
   "metadata": {
    "collapsed": true
   },
   "outputs": [],
   "source": []
  },
  {
   "cell_type": "code",
   "execution_count": 80,
   "metadata": {
    "collapsed": false
   },
   "outputs": [
    {
     "name": "stdout",
     "output_type": "stream",
     "text": [
      "global_step:0\n",
      "init/init_conv/DW:0\n",
      "unit_1_0/shared_activation/init_bn/beta:0\n",
      "unit_1_0/shared_activation/init_bn/gamma:0\n",
      "unit_1_0/shared_activation/init_bn/moving_mean:0\n",
      "unit_1_0/shared_activation/init_bn/moving_variance:0\n",
      "unit_1_0/shared_activation/init_bn/unit_1_0/shared_activation/init_bn/moving_mean/biased:0\n",
      "unit_1_0/shared_activation/init_bn/unit_1_0/shared_activation/init_bn/moving_mean/local_step:0\n",
      "unit_1_0/shared_activation/init_bn/unit_1_0/shared_activation/init_bn/moving_variance/biased:0\n",
      "unit_1_0/shared_activation/init_bn/unit_1_0/shared_activation/init_bn/moving_variance/local_step:0\n",
      "unit_1_0/sub1/conv1/DW:0\n",
      "unit_1_0/sub2/bn2/beta:0\n",
      "unit_1_0/sub2/bn2/gamma:0\n",
      "unit_1_0/sub2/bn2/moving_mean:0\n",
      "unit_1_0/sub2/bn2/moving_variance:0\n",
      "unit_1_0/sub2/bn2/unit_1_0/sub2/bn2/moving_mean/biased:0\n",
      "unit_1_0/sub2/bn2/unit_1_0/sub2/bn2/moving_mean/local_step:0\n",
      "unit_1_0/sub2/bn2/unit_1_0/sub2/bn2/moving_variance/biased:0\n",
      "unit_1_0/sub2/bn2/unit_1_0/sub2/bn2/moving_variance/local_step:0\n",
      "unit_1_0/sub2/conv2/DW:0\n",
      "unit_1_1/residual_only_activation/init_bn/beta:0\n",
      "unit_1_1/residual_only_activation/init_bn/gamma:0\n",
      "unit_1_1/residual_only_activation/init_bn/moving_mean:0\n",
      "unit_1_1/residual_only_activation/init_bn/moving_variance:0\n",
      "unit_1_1/residual_only_activation/init_bn/unit_1_1/residual_only_activation/init_bn/moving_mean/biased:0\n",
      "unit_1_1/residual_only_activation/init_bn/unit_1_1/residual_only_activation/init_bn/moving_mean/local_step:0\n",
      "unit_1_1/residual_only_activation/init_bn/unit_1_1/residual_only_activation/init_bn/moving_variance/biased:0\n",
      "unit_1_1/residual_only_activation/init_bn/unit_1_1/residual_only_activation/init_bn/moving_variance/local_step:0\n",
      "unit_1_1/sub1/conv1/DW:0\n",
      "unit_1_1/sub2/bn2/beta:0\n",
      "unit_1_1/sub2/bn2/gamma:0\n",
      "unit_1_1/sub2/bn2/moving_mean:0\n",
      "unit_1_1/sub2/bn2/moving_variance:0\n",
      "unit_1_1/sub2/bn2/unit_1_1/sub2/bn2/moving_mean/biased:0\n",
      "unit_1_1/sub2/bn2/unit_1_1/sub2/bn2/moving_mean/local_step:0\n",
      "unit_1_1/sub2/bn2/unit_1_1/sub2/bn2/moving_variance/biased:0\n",
      "unit_1_1/sub2/bn2/unit_1_1/sub2/bn2/moving_variance/local_step:0\n",
      "unit_1_1/sub2/conv2/DW:0\n",
      "unit_1_2/residual_only_activation/init_bn/beta:0\n",
      "unit_1_2/residual_only_activation/init_bn/gamma:0\n",
      "unit_1_2/residual_only_activation/init_bn/moving_mean:0\n",
      "unit_1_2/residual_only_activation/init_bn/moving_variance:0\n",
      "unit_1_2/residual_only_activation/init_bn/unit_1_2/residual_only_activation/init_bn/moving_mean/biased:0\n",
      "unit_1_2/residual_only_activation/init_bn/unit_1_2/residual_only_activation/init_bn/moving_mean/local_step:0\n",
      "unit_1_2/residual_only_activation/init_bn/unit_1_2/residual_only_activation/init_bn/moving_variance/biased:0\n",
      "unit_1_2/residual_only_activation/init_bn/unit_1_2/residual_only_activation/init_bn/moving_variance/local_step:0\n",
      "unit_1_2/sub1/conv1/DW:0\n",
      "unit_1_2/sub2/bn2/beta:0\n",
      "unit_1_2/sub2/bn2/gamma:0\n",
      "unit_1_2/sub2/bn2/moving_mean:0\n",
      "unit_1_2/sub2/bn2/moving_variance:0\n",
      "unit_1_2/sub2/bn2/unit_1_2/sub2/bn2/moving_mean/biased:0\n",
      "unit_1_2/sub2/bn2/unit_1_2/sub2/bn2/moving_mean/local_step:0\n",
      "unit_1_2/sub2/bn2/unit_1_2/sub2/bn2/moving_variance/biased:0\n",
      "unit_1_2/sub2/bn2/unit_1_2/sub2/bn2/moving_variance/local_step:0\n",
      "unit_1_2/sub2/conv2/DW:0\n",
      "unit_1_3/residual_only_activation/init_bn/beta:0\n",
      "unit_1_3/residual_only_activation/init_bn/gamma:0\n",
      "unit_1_3/residual_only_activation/init_bn/moving_mean:0\n",
      "unit_1_3/residual_only_activation/init_bn/moving_variance:0\n",
      "unit_1_3/residual_only_activation/init_bn/unit_1_3/residual_only_activation/init_bn/moving_mean/biased:0\n",
      "unit_1_3/residual_only_activation/init_bn/unit_1_3/residual_only_activation/init_bn/moving_mean/local_step:0\n",
      "unit_1_3/residual_only_activation/init_bn/unit_1_3/residual_only_activation/init_bn/moving_variance/biased:0\n",
      "unit_1_3/residual_only_activation/init_bn/unit_1_3/residual_only_activation/init_bn/moving_variance/local_step:0\n",
      "unit_1_3/sub1/conv1/DW:0\n",
      "unit_1_3/sub2/bn2/beta:0\n",
      "unit_1_3/sub2/bn2/gamma:0\n",
      "unit_1_3/sub2/bn2/moving_mean:0\n",
      "unit_1_3/sub2/bn2/moving_variance:0\n",
      "unit_1_3/sub2/bn2/unit_1_3/sub2/bn2/moving_mean/biased:0\n",
      "unit_1_3/sub2/bn2/unit_1_3/sub2/bn2/moving_mean/local_step:0\n",
      "unit_1_3/sub2/bn2/unit_1_3/sub2/bn2/moving_variance/biased:0\n",
      "unit_1_3/sub2/bn2/unit_1_3/sub2/bn2/moving_variance/local_step:0\n",
      "unit_1_3/sub2/conv2/DW:0\n",
      "unit_1_4/residual_only_activation/init_bn/beta:0\n",
      "unit_1_4/residual_only_activation/init_bn/gamma:0\n",
      "unit_1_4/residual_only_activation/init_bn/moving_mean:0\n",
      "unit_1_4/residual_only_activation/init_bn/moving_variance:0\n",
      "unit_1_4/residual_only_activation/init_bn/unit_1_4/residual_only_activation/init_bn/moving_mean/biased:0\n",
      "unit_1_4/residual_only_activation/init_bn/unit_1_4/residual_only_activation/init_bn/moving_mean/local_step:0\n",
      "unit_1_4/residual_only_activation/init_bn/unit_1_4/residual_only_activation/init_bn/moving_variance/biased:0\n",
      "unit_1_4/residual_only_activation/init_bn/unit_1_4/residual_only_activation/init_bn/moving_variance/local_step:0\n",
      "unit_1_4/sub1/conv1/DW:0\n",
      "unit_1_4/sub2/bn2/beta:0\n",
      "unit_1_4/sub2/bn2/gamma:0\n",
      "unit_1_4/sub2/bn2/moving_mean:0\n",
      "unit_1_4/sub2/bn2/moving_variance:0\n",
      "unit_1_4/sub2/bn2/unit_1_4/sub2/bn2/moving_mean/biased:0\n",
      "unit_1_4/sub2/bn2/unit_1_4/sub2/bn2/moving_mean/local_step:0\n",
      "unit_1_4/sub2/bn2/unit_1_4/sub2/bn2/moving_variance/biased:0\n",
      "unit_1_4/sub2/bn2/unit_1_4/sub2/bn2/moving_variance/local_step:0\n",
      "unit_1_4/sub2/conv2/DW:0\n",
      "unit_2_0/residual_only_activation/init_bn/beta:0\n",
      "unit_2_0/residual_only_activation/init_bn/gamma:0\n",
      "unit_2_0/residual_only_activation/init_bn/moving_mean:0\n",
      "unit_2_0/residual_only_activation/init_bn/moving_variance:0\n",
      "unit_2_0/residual_only_activation/init_bn/unit_2_0/residual_only_activation/init_bn/moving_mean/biased:0\n",
      "unit_2_0/residual_only_activation/init_bn/unit_2_0/residual_only_activation/init_bn/moving_mean/local_step:0\n",
      "unit_2_0/residual_only_activation/init_bn/unit_2_0/residual_only_activation/init_bn/moving_variance/biased:0\n",
      "unit_2_0/residual_only_activation/init_bn/unit_2_0/residual_only_activation/init_bn/moving_variance/local_step:0\n",
      "unit_2_0/sub1/conv1/DW:0\n",
      "unit_2_0/sub2/bn2/beta:0\n",
      "unit_2_0/sub2/bn2/gamma:0\n",
      "unit_2_0/sub2/bn2/moving_mean:0\n",
      "unit_2_0/sub2/bn2/moving_variance:0\n",
      "unit_2_0/sub2/bn2/unit_2_0/sub2/bn2/moving_mean/biased:0\n",
      "unit_2_0/sub2/bn2/unit_2_0/sub2/bn2/moving_mean/local_step:0\n",
      "unit_2_0/sub2/bn2/unit_2_0/sub2/bn2/moving_variance/biased:0\n",
      "unit_2_0/sub2/bn2/unit_2_0/sub2/bn2/moving_variance/local_step:0\n",
      "unit_2_0/sub2/conv2/DW:0\n",
      "unit_2_1/residual_only_activation/init_bn/beta:0\n",
      "unit_2_1/residual_only_activation/init_bn/gamma:0\n",
      "unit_2_1/residual_only_activation/init_bn/moving_mean:0\n",
      "unit_2_1/residual_only_activation/init_bn/moving_variance:0\n",
      "unit_2_1/residual_only_activation/init_bn/unit_2_1/residual_only_activation/init_bn/moving_mean/biased:0\n",
      "unit_2_1/residual_only_activation/init_bn/unit_2_1/residual_only_activation/init_bn/moving_mean/local_step:0\n",
      "unit_2_1/residual_only_activation/init_bn/unit_2_1/residual_only_activation/init_bn/moving_variance/biased:0\n",
      "unit_2_1/residual_only_activation/init_bn/unit_2_1/residual_only_activation/init_bn/moving_variance/local_step:0\n",
      "unit_2_1/sub1/conv1/DW:0\n",
      "unit_2_1/sub2/bn2/beta:0\n",
      "unit_2_1/sub2/bn2/gamma:0\n",
      "unit_2_1/sub2/bn2/moving_mean:0\n",
      "unit_2_1/sub2/bn2/moving_variance:0\n",
      "unit_2_1/sub2/bn2/unit_2_1/sub2/bn2/moving_mean/biased:0\n",
      "unit_2_1/sub2/bn2/unit_2_1/sub2/bn2/moving_mean/local_step:0\n",
      "unit_2_1/sub2/bn2/unit_2_1/sub2/bn2/moving_variance/biased:0\n",
      "unit_2_1/sub2/bn2/unit_2_1/sub2/bn2/moving_variance/local_step:0\n",
      "unit_2_1/sub2/conv2/DW:0\n",
      "unit_2_2/residual_only_activation/init_bn/beta:0\n",
      "unit_2_2/residual_only_activation/init_bn/gamma:0\n",
      "unit_2_2/residual_only_activation/init_bn/moving_mean:0\n",
      "unit_2_2/residual_only_activation/init_bn/moving_variance:0\n",
      "unit_2_2/residual_only_activation/init_bn/unit_2_2/residual_only_activation/init_bn/moving_mean/biased:0\n",
      "unit_2_2/residual_only_activation/init_bn/unit_2_2/residual_only_activation/init_bn/moving_mean/local_step:0\n",
      "unit_2_2/residual_only_activation/init_bn/unit_2_2/residual_only_activation/init_bn/moving_variance/biased:0\n",
      "unit_2_2/residual_only_activation/init_bn/unit_2_2/residual_only_activation/init_bn/moving_variance/local_step:0\n",
      "unit_2_2/sub1/conv1/DW:0\n",
      "unit_2_2/sub2/bn2/beta:0\n",
      "unit_2_2/sub2/bn2/gamma:0\n",
      "unit_2_2/sub2/bn2/moving_mean:0\n",
      "unit_2_2/sub2/bn2/moving_variance:0\n",
      "unit_2_2/sub2/bn2/unit_2_2/sub2/bn2/moving_mean/biased:0\n",
      "unit_2_2/sub2/bn2/unit_2_2/sub2/bn2/moving_mean/local_step:0\n",
      "unit_2_2/sub2/bn2/unit_2_2/sub2/bn2/moving_variance/biased:0\n",
      "unit_2_2/sub2/bn2/unit_2_2/sub2/bn2/moving_variance/local_step:0\n",
      "unit_2_2/sub2/conv2/DW:0\n",
      "unit_2_3/residual_only_activation/init_bn/beta:0\n",
      "unit_2_3/residual_only_activation/init_bn/gamma:0\n",
      "unit_2_3/residual_only_activation/init_bn/moving_mean:0\n",
      "unit_2_3/residual_only_activation/init_bn/moving_variance:0\n",
      "unit_2_3/residual_only_activation/init_bn/unit_2_3/residual_only_activation/init_bn/moving_mean/biased:0\n",
      "unit_2_3/residual_only_activation/init_bn/unit_2_3/residual_only_activation/init_bn/moving_mean/local_step:0\n",
      "unit_2_3/residual_only_activation/init_bn/unit_2_3/residual_only_activation/init_bn/moving_variance/biased:0\n",
      "unit_2_3/residual_only_activation/init_bn/unit_2_3/residual_only_activation/init_bn/moving_variance/local_step:0\n",
      "unit_2_3/sub1/conv1/DW:0\n",
      "unit_2_3/sub2/bn2/beta:0\n",
      "unit_2_3/sub2/bn2/gamma:0\n",
      "unit_2_3/sub2/bn2/moving_mean:0\n",
      "unit_2_3/sub2/bn2/moving_variance:0\n",
      "unit_2_3/sub2/bn2/unit_2_3/sub2/bn2/moving_mean/biased:0\n",
      "unit_2_3/sub2/bn2/unit_2_3/sub2/bn2/moving_mean/local_step:0\n",
      "unit_2_3/sub2/bn2/unit_2_3/sub2/bn2/moving_variance/biased:0\n",
      "unit_2_3/sub2/bn2/unit_2_3/sub2/bn2/moving_variance/local_step:0\n",
      "unit_2_3/sub2/conv2/DW:0\n",
      "unit_2_4/residual_only_activation/init_bn/beta:0\n",
      "unit_2_4/residual_only_activation/init_bn/gamma:0\n",
      "unit_2_4/residual_only_activation/init_bn/moving_mean:0\n",
      "unit_2_4/residual_only_activation/init_bn/moving_variance:0\n",
      "unit_2_4/residual_only_activation/init_bn/unit_2_4/residual_only_activation/init_bn/moving_mean/biased:0\n",
      "unit_2_4/residual_only_activation/init_bn/unit_2_4/residual_only_activation/init_bn/moving_mean/local_step:0\n",
      "unit_2_4/residual_only_activation/init_bn/unit_2_4/residual_only_activation/init_bn/moving_variance/biased:0\n",
      "unit_2_4/residual_only_activation/init_bn/unit_2_4/residual_only_activation/init_bn/moving_variance/local_step:0\n",
      "unit_2_4/sub1/conv1/DW:0\n",
      "unit_2_4/sub2/bn2/beta:0\n",
      "unit_2_4/sub2/bn2/gamma:0\n",
      "unit_2_4/sub2/bn2/moving_mean:0\n",
      "unit_2_4/sub2/bn2/moving_variance:0\n",
      "unit_2_4/sub2/bn2/unit_2_4/sub2/bn2/moving_mean/biased:0\n",
      "unit_2_4/sub2/bn2/unit_2_4/sub2/bn2/moving_mean/local_step:0\n",
      "unit_2_4/sub2/bn2/unit_2_4/sub2/bn2/moving_variance/biased:0\n",
      "unit_2_4/sub2/bn2/unit_2_4/sub2/bn2/moving_variance/local_step:0\n",
      "unit_2_4/sub2/conv2/DW:0\n",
      "unit_3_0/residual_only_activation/init_bn/beta:0\n",
      "unit_3_0/residual_only_activation/init_bn/gamma:0\n",
      "unit_3_0/residual_only_activation/init_bn/moving_mean:0\n",
      "unit_3_0/residual_only_activation/init_bn/moving_variance:0\n",
      "unit_3_0/residual_only_activation/init_bn/unit_3_0/residual_only_activation/init_bn/moving_mean/biased:0\n",
      "unit_3_0/residual_only_activation/init_bn/unit_3_0/residual_only_activation/init_bn/moving_mean/local_step:0\n",
      "unit_3_0/residual_only_activation/init_bn/unit_3_0/residual_only_activation/init_bn/moving_variance/biased:0\n",
      "unit_3_0/residual_only_activation/init_bn/unit_3_0/residual_only_activation/init_bn/moving_variance/local_step:0\n",
      "unit_3_0/sub1/conv1/DW:0\n",
      "unit_3_0/sub2/bn2/beta:0\n",
      "unit_3_0/sub2/bn2/gamma:0\n",
      "unit_3_0/sub2/bn2/moving_mean:0\n",
      "unit_3_0/sub2/bn2/moving_variance:0\n",
      "unit_3_0/sub2/bn2/unit_3_0/sub2/bn2/moving_mean/biased:0\n",
      "unit_3_0/sub2/bn2/unit_3_0/sub2/bn2/moving_mean/local_step:0\n",
      "unit_3_0/sub2/bn2/unit_3_0/sub2/bn2/moving_variance/biased:0\n",
      "unit_3_0/sub2/bn2/unit_3_0/sub2/bn2/moving_variance/local_step:0\n",
      "unit_3_0/sub2/conv2/DW:0\n",
      "unit_3_1/residual_only_activation/init_bn/beta:0\n",
      "unit_3_1/residual_only_activation/init_bn/gamma:0\n",
      "unit_3_1/residual_only_activation/init_bn/moving_mean:0\n",
      "unit_3_1/residual_only_activation/init_bn/moving_variance:0\n",
      "unit_3_1/residual_only_activation/init_bn/unit_3_1/residual_only_activation/init_bn/moving_mean/biased:0\n",
      "unit_3_1/residual_only_activation/init_bn/unit_3_1/residual_only_activation/init_bn/moving_mean/local_step:0\n",
      "unit_3_1/residual_only_activation/init_bn/unit_3_1/residual_only_activation/init_bn/moving_variance/biased:0\n",
      "unit_3_1/residual_only_activation/init_bn/unit_3_1/residual_only_activation/init_bn/moving_variance/local_step:0\n",
      "unit_3_1/sub1/conv1/DW:0\n",
      "unit_3_1/sub2/bn2/beta:0\n",
      "unit_3_1/sub2/bn2/gamma:0\n",
      "unit_3_1/sub2/bn2/moving_mean:0\n",
      "unit_3_1/sub2/bn2/moving_variance:0\n",
      "unit_3_1/sub2/bn2/unit_3_1/sub2/bn2/moving_mean/biased:0\n",
      "unit_3_1/sub2/bn2/unit_3_1/sub2/bn2/moving_mean/local_step:0\n",
      "unit_3_1/sub2/bn2/unit_3_1/sub2/bn2/moving_variance/biased:0\n",
      "unit_3_1/sub2/bn2/unit_3_1/sub2/bn2/moving_variance/local_step:0\n",
      "unit_3_1/sub2/conv2/DW:0\n",
      "unit_3_2/residual_only_activation/init_bn/beta:0\n",
      "unit_3_2/residual_only_activation/init_bn/gamma:0\n",
      "unit_3_2/residual_only_activation/init_bn/moving_mean:0\n",
      "unit_3_2/residual_only_activation/init_bn/moving_variance:0\n",
      "unit_3_2/residual_only_activation/init_bn/unit_3_2/residual_only_activation/init_bn/moving_mean/biased:0\n",
      "unit_3_2/residual_only_activation/init_bn/unit_3_2/residual_only_activation/init_bn/moving_mean/local_step:0\n",
      "unit_3_2/residual_only_activation/init_bn/unit_3_2/residual_only_activation/init_bn/moving_variance/biased:0\n",
      "unit_3_2/residual_only_activation/init_bn/unit_3_2/residual_only_activation/init_bn/moving_variance/local_step:0\n",
      "unit_3_2/sub1/conv1/DW:0\n",
      "unit_3_2/sub2/bn2/beta:0\n",
      "unit_3_2/sub2/bn2/gamma:0\n",
      "unit_3_2/sub2/bn2/moving_mean:0\n",
      "unit_3_2/sub2/bn2/moving_variance:0\n",
      "unit_3_2/sub2/bn2/unit_3_2/sub2/bn2/moving_mean/biased:0\n",
      "unit_3_2/sub2/bn2/unit_3_2/sub2/bn2/moving_mean/local_step:0\n",
      "unit_3_2/sub2/bn2/unit_3_2/sub2/bn2/moving_variance/biased:0\n",
      "unit_3_2/sub2/bn2/unit_3_2/sub2/bn2/moving_variance/local_step:0\n",
      "unit_3_2/sub2/conv2/DW:0\n",
      "unit_3_3/residual_only_activation/init_bn/beta:0\n",
      "unit_3_3/residual_only_activation/init_bn/gamma:0\n",
      "unit_3_3/residual_only_activation/init_bn/moving_mean:0\n",
      "unit_3_3/residual_only_activation/init_bn/moving_variance:0\n",
      "unit_3_3/residual_only_activation/init_bn/unit_3_3/residual_only_activation/init_bn/moving_mean/biased:0\n",
      "unit_3_3/residual_only_activation/init_bn/unit_3_3/residual_only_activation/init_bn/moving_mean/local_step:0\n",
      "unit_3_3/residual_only_activation/init_bn/unit_3_3/residual_only_activation/init_bn/moving_variance/biased:0\n",
      "unit_3_3/residual_only_activation/init_bn/unit_3_3/residual_only_activation/init_bn/moving_variance/local_step:0\n",
      "unit_3_3/sub1/conv1/DW:0\n",
      "unit_3_3/sub2/bn2/beta:0\n",
      "unit_3_3/sub2/bn2/gamma:0\n",
      "unit_3_3/sub2/bn2/moving_mean:0\n",
      "unit_3_3/sub2/bn2/moving_variance:0\n",
      "unit_3_3/sub2/bn2/unit_3_3/sub2/bn2/moving_mean/biased:0\n",
      "unit_3_3/sub2/bn2/unit_3_3/sub2/bn2/moving_mean/local_step:0\n",
      "unit_3_3/sub2/bn2/unit_3_3/sub2/bn2/moving_variance/biased:0\n",
      "unit_3_3/sub2/bn2/unit_3_3/sub2/bn2/moving_variance/local_step:0\n",
      "unit_3_3/sub2/conv2/DW:0\n",
      "unit_3_4/residual_only_activation/init_bn/beta:0\n",
      "unit_3_4/residual_only_activation/init_bn/gamma:0\n",
      "unit_3_4/residual_only_activation/init_bn/moving_mean:0\n",
      "unit_3_4/residual_only_activation/init_bn/moving_variance:0\n",
      "unit_3_4/residual_only_activation/init_bn/unit_3_4/residual_only_activation/init_bn/moving_mean/biased:0\n",
      "unit_3_4/residual_only_activation/init_bn/unit_3_4/residual_only_activation/init_bn/moving_mean/local_step:0\n",
      "unit_3_4/residual_only_activation/init_bn/unit_3_4/residual_only_activation/init_bn/moving_variance/biased:0\n",
      "unit_3_4/residual_only_activation/init_bn/unit_3_4/residual_only_activation/init_bn/moving_variance/local_step:0\n",
      "unit_3_4/sub1/conv1/DW:0\n",
      "unit_3_4/sub2/bn2/beta:0\n",
      "unit_3_4/sub2/bn2/gamma:0\n",
      "unit_3_4/sub2/bn2/moving_mean:0\n",
      "unit_3_4/sub2/bn2/moving_variance:0\n",
      "unit_3_4/sub2/bn2/unit_3_4/sub2/bn2/moving_mean/biased:0\n",
      "unit_3_4/sub2/bn2/unit_3_4/sub2/bn2/moving_mean/local_step:0\n",
      "unit_3_4/sub2/bn2/unit_3_4/sub2/bn2/moving_variance/biased:0\n",
      "unit_3_4/sub2/bn2/unit_3_4/sub2/bn2/moving_variance/local_step:0\n",
      "unit_3_4/sub2/conv2/DW:0\n",
      "unit_last/final_bn/beta:0\n",
      "unit_last/final_bn/gamma:0\n",
      "unit_last/final_bn/moving_mean:0\n",
      "unit_last/final_bn/moving_variance:0\n",
      "unit_last/final_bn/unit_last/final_bn/moving_mean/biased:0\n",
      "unit_last/final_bn/unit_last/final_bn/moving_mean/local_step:0\n",
      "unit_last/final_bn/unit_last/final_bn/moving_variance/biased:0\n",
      "unit_last/final_bn/unit_last/final_bn/moving_variance/local_step:0\n",
      "logit/DW:0\n",
      "logit/biases:0\n",
      "init/init_conv/DW/Momentum:0\n",
      "unit_1_0/shared_activation/init_bn/beta/Momentum:0\n",
      "unit_1_0/shared_activation/init_bn/gamma/Momentum:0\n",
      "unit_1_0/sub1/conv1/DW/Momentum:0\n",
      "unit_1_0/sub2/bn2/beta/Momentum:0\n",
      "unit_1_0/sub2/bn2/gamma/Momentum:0\n",
      "unit_1_0/sub2/conv2/DW/Momentum:0\n",
      "unit_1_1/residual_only_activation/init_bn/beta/Momentum:0\n",
      "unit_1_1/residual_only_activation/init_bn/gamma/Momentum:0\n",
      "unit_1_1/sub1/conv1/DW/Momentum:0\n",
      "unit_1_1/sub2/bn2/beta/Momentum:0\n",
      "unit_1_1/sub2/bn2/gamma/Momentum:0\n",
      "unit_1_1/sub2/conv2/DW/Momentum:0\n",
      "unit_1_2/residual_only_activation/init_bn/beta/Momentum:0\n",
      "unit_1_2/residual_only_activation/init_bn/gamma/Momentum:0\n",
      "unit_1_2/sub1/conv1/DW/Momentum:0\n",
      "unit_1_2/sub2/bn2/beta/Momentum:0\n",
      "unit_1_2/sub2/bn2/gamma/Momentum:0\n",
      "unit_1_2/sub2/conv2/DW/Momentum:0\n",
      "unit_1_3/residual_only_activation/init_bn/beta/Momentum:0\n",
      "unit_1_3/residual_only_activation/init_bn/gamma/Momentum:0\n",
      "unit_1_3/sub1/conv1/DW/Momentum:0\n",
      "unit_1_3/sub2/bn2/beta/Momentum:0\n",
      "unit_1_3/sub2/bn2/gamma/Momentum:0\n",
      "unit_1_3/sub2/conv2/DW/Momentum:0\n",
      "unit_1_4/residual_only_activation/init_bn/beta/Momentum:0\n",
      "unit_1_4/residual_only_activation/init_bn/gamma/Momentum:0\n",
      "unit_1_4/sub1/conv1/DW/Momentum:0\n",
      "unit_1_4/sub2/bn2/beta/Momentum:0\n",
      "unit_1_4/sub2/bn2/gamma/Momentum:0\n",
      "unit_1_4/sub2/conv2/DW/Momentum:0\n",
      "unit_2_0/residual_only_activation/init_bn/beta/Momentum:0\n",
      "unit_2_0/residual_only_activation/init_bn/gamma/Momentum:0\n",
      "unit_2_0/sub1/conv1/DW/Momentum:0\n",
      "unit_2_0/sub2/bn2/beta/Momentum:0\n",
      "unit_2_0/sub2/bn2/gamma/Momentum:0\n",
      "unit_2_0/sub2/conv2/DW/Momentum:0\n",
      "unit_2_1/residual_only_activation/init_bn/beta/Momentum:0\n",
      "unit_2_1/residual_only_activation/init_bn/gamma/Momentum:0\n",
      "unit_2_1/sub1/conv1/DW/Momentum:0\n",
      "unit_2_1/sub2/bn2/beta/Momentum:0\n",
      "unit_2_1/sub2/bn2/gamma/Momentum:0\n",
      "unit_2_1/sub2/conv2/DW/Momentum:0\n",
      "unit_2_2/residual_only_activation/init_bn/beta/Momentum:0\n",
      "unit_2_2/residual_only_activation/init_bn/gamma/Momentum:0\n",
      "unit_2_2/sub1/conv1/DW/Momentum:0\n",
      "unit_2_2/sub2/bn2/beta/Momentum:0\n",
      "unit_2_2/sub2/bn2/gamma/Momentum:0\n",
      "unit_2_2/sub2/conv2/DW/Momentum:0\n",
      "unit_2_3/residual_only_activation/init_bn/beta/Momentum:0\n",
      "unit_2_3/residual_only_activation/init_bn/gamma/Momentum:0\n",
      "unit_2_3/sub1/conv1/DW/Momentum:0\n",
      "unit_2_3/sub2/bn2/beta/Momentum:0\n",
      "unit_2_3/sub2/bn2/gamma/Momentum:0\n",
      "unit_2_3/sub2/conv2/DW/Momentum:0\n",
      "unit_2_4/residual_only_activation/init_bn/beta/Momentum:0\n",
      "unit_2_4/residual_only_activation/init_bn/gamma/Momentum:0\n",
      "unit_2_4/sub1/conv1/DW/Momentum:0\n",
      "unit_2_4/sub2/bn2/beta/Momentum:0\n",
      "unit_2_4/sub2/bn2/gamma/Momentum:0\n",
      "unit_2_4/sub2/conv2/DW/Momentum:0\n",
      "unit_3_0/residual_only_activation/init_bn/beta/Momentum:0\n",
      "unit_3_0/residual_only_activation/init_bn/gamma/Momentum:0\n",
      "unit_3_0/sub1/conv1/DW/Momentum:0\n",
      "unit_3_0/sub2/bn2/beta/Momentum:0\n",
      "unit_3_0/sub2/bn2/gamma/Momentum:0\n",
      "unit_3_0/sub2/conv2/DW/Momentum:0\n",
      "unit_3_1/residual_only_activation/init_bn/beta/Momentum:0\n",
      "unit_3_1/residual_only_activation/init_bn/gamma/Momentum:0\n",
      "unit_3_1/sub1/conv1/DW/Momentum:0\n",
      "unit_3_1/sub2/bn2/beta/Momentum:0\n",
      "unit_3_1/sub2/bn2/gamma/Momentum:0\n",
      "unit_3_1/sub2/conv2/DW/Momentum:0\n",
      "unit_3_2/residual_only_activation/init_bn/beta/Momentum:0\n",
      "unit_3_2/residual_only_activation/init_bn/gamma/Momentum:0\n",
      "unit_3_2/sub1/conv1/DW/Momentum:0\n",
      "unit_3_2/sub2/bn2/beta/Momentum:0\n",
      "unit_3_2/sub2/bn2/gamma/Momentum:0\n",
      "unit_3_2/sub2/conv2/DW/Momentum:0\n",
      "unit_3_3/residual_only_activation/init_bn/beta/Momentum:0\n",
      "unit_3_3/residual_only_activation/init_bn/gamma/Momentum:0\n",
      "unit_3_3/sub1/conv1/DW/Momentum:0\n",
      "unit_3_3/sub2/bn2/beta/Momentum:0\n",
      "unit_3_3/sub2/bn2/gamma/Momentum:0\n",
      "unit_3_3/sub2/conv2/DW/Momentum:0\n",
      "unit_3_4/residual_only_activation/init_bn/beta/Momentum:0\n",
      "unit_3_4/residual_only_activation/init_bn/gamma/Momentum:0\n",
      "unit_3_4/sub1/conv1/DW/Momentum:0\n",
      "unit_3_4/sub2/bn2/beta/Momentum:0\n",
      "unit_3_4/sub2/bn2/gamma/Momentum:0\n",
      "unit_3_4/sub2/conv2/DW/Momentum:0\n",
      "unit_last/final_bn/beta/Momentum:0\n",
      "unit_last/final_bn/gamma/Momentum:0\n",
      "logit/DW/Momentum:0\n",
      "logit/biases/Momentum:0\n"
     ]
    }
   ],
   "source": [
    "with resnet_graph.as_default():\n",
    "    #for i in tf.trainable_variables():\n",
    "    for i in tf.global_variables():\n",
    "        print(i.name)"
   ]
  },
  {
   "cell_type": "code",
   "execution_count": 20,
   "metadata": {
    "collapsed": false
   },
   "outputs": [],
   "source": [
    "inputs= resnet_graph.get_tensor_by_name('init/init_conv/DW:0')\n",
    "prediction= resnet_graph.get_tensor_by_name('logit/DW:0')"
   ]
  },
  {
   "cell_type": "code",
   "execution_count": 71,
   "metadata": {
    "collapsed": false
   },
   "outputs": [
    {
     "data": {
      "text/plain": [
       "TensorShape([Dimension(3), Dimension(3), Dimension(3), Dimension(16)])"
      ]
     },
     "execution_count": 71,
     "metadata": {},
     "output_type": "execute_result"
    }
   ],
   "source": [
    "inputs.shape"
   ]
  },
  {
   "cell_type": "code",
   "execution_count": 28,
   "metadata": {
    "collapsed": true
   },
   "outputs": [],
   "source": [
    "import sys\n",
    "def unpickle(file):\n",
    "    fp = open(file, 'rb')\n",
    "    if sys.version_info.major == 2:\n",
    "        data = pickle.load(fp)\n",
    "    elif sys.version_info.major == 3:\n",
    "        data = pickle.load(fp, encoding='latin-1')\n",
    "    fp.close()\n",
    "    return data"
   ]
  },
  {
   "cell_type": "code",
   "execution_count": 29,
   "metadata": {
    "collapsed": false
   },
   "outputs": [],
   "source": [
    "picpath = './data/cifar100/cifar-100-python/test'\n",
    "testdata = unpickle(picpath)"
   ]
  },
  {
   "cell_type": "code",
   "execution_count": 31,
   "metadata": {
    "collapsed": false
   },
   "outputs": [
    {
     "data": {
      "text/plain": [
       "dict_keys(['batch_label', 'data', 'filenames', 'fine_labels', 'coarse_labels'])"
      ]
     },
     "execution_count": 31,
     "metadata": {},
     "output_type": "execute_result"
    }
   ],
   "source": [
    "testdata.keys()"
   ]
  },
  {
   "cell_type": "code",
   "execution_count": 50,
   "metadata": {
    "collapsed": false
   },
   "outputs": [],
   "source": [
    "test_pics = testdata['data']"
   ]
  },
  {
   "cell_type": "code",
   "execution_count": 52,
   "metadata": {
    "collapsed": false
   },
   "outputs": [
    {
     "data": {
      "text/plain": [
       "(10000, 3072)"
      ]
     },
     "execution_count": 52,
     "metadata": {},
     "output_type": "execute_result"
    }
   ],
   "source": [
    "test_pics.shape"
   ]
  },
  {
   "cell_type": "code",
   "execution_count": 58,
   "metadata": {
    "collapsed": false
   },
   "outputs": [
    {
     "data": {
      "text/plain": [
       "(3072,)"
      ]
     },
     "execution_count": 58,
     "metadata": {},
     "output_type": "execute_result"
    }
   ],
   "source": [
    "testimg.shape"
   ]
  },
  {
   "cell_type": "code",
   "execution_count": 64,
   "metadata": {
    "collapsed": false
   },
   "outputs": [
    {
     "data": {
      "text/plain": [
       "<matplotlib.image.AxesImage at 0x7fa6714a8160>"
      ]
     },
     "execution_count": 64,
     "metadata": {},
     "output_type": "execute_result"
    },
    {
     "data": {
      "image/png": "[encoded data removed]",
      "text/plain": [
       "<matplotlib.figure.Figure at 0x7fa6714a8dd8>"
      ]
     },
     "metadata": {
      "image/png": {
       "height": 250,
       "width": 253
      }
     },
     "output_type": "display_data"
    }
   ],
   "source": [
    "flam = plt.imread('flamingo.jpeg')\n",
    "ap1 = plt.imread('data/apple/apple_s_000022.png')\n",
    "plt.imshow(flam)\n",
    "plt.imshow(ap1)"
   ]
  },
  {
   "cell_type": "code",
   "execution_count": 62,
   "metadata": {
    "collapsed": false
   },
   "outputs": [
    {
     "data": {
      "text/plain": [
       "(253, 200, 3)"
      ]
     },
     "execution_count": 62,
     "metadata": {},
     "output_type": "execute_result"
    }
   ],
   "source": [
    "flam.shape"
   ]
  },
  {
   "cell_type": "code",
   "execution_count": 63,
   "metadata": {
    "collapsed": false
   },
   "outputs": [
    {
     "ename": "TypeError",
     "evalue": "Object does not appear to be a 8-bit string path or a Python file-like object",
     "output_type": "error",
     "traceback": [
      "\u001b[0;31m---------------------------------------------------------------------------\u001b[0m",
      "\u001b[0;31mTypeError\u001b[0m                                 Traceback (most recent call last)",
      "\u001b[0;32m<ipython-input-63-2481d651c47a>\u001b[0m in \u001b[0;36m<module>\u001b[0;34m()\u001b[0m\n\u001b[1;32m      1\u001b[0m \u001b[0mtestimg\u001b[0m \u001b[0;34m=\u001b[0m \u001b[0mtestimg\u001b[0m\u001b[0;34m.\u001b[0m\u001b[0mreshape\u001b[0m\u001b[0;34m(\u001b[0m\u001b[0;34m[\u001b[0m\u001b[0;36m32\u001b[0m\u001b[0;34m,\u001b[0m\u001b[0;36m32\u001b[0m\u001b[0;34m,\u001b[0m\u001b[0;36m3\u001b[0m\u001b[0;34m]\u001b[0m\u001b[0;34m)\u001b[0m\u001b[0;34m\u001b[0m\u001b[0m\n\u001b[0;32m----> 2\u001b[0;31m \u001b[0mtestimg\u001b[0m \u001b[0;34m=\u001b[0m \u001b[0mplt\u001b[0m\u001b[0;34m.\u001b[0m\u001b[0mimread\u001b[0m\u001b[0;34m(\u001b[0m\u001b[0mtestimg\u001b[0m\u001b[0;34m)\u001b[0m\u001b[0;34m\u001b[0m\u001b[0m\n\u001b[0m\u001b[1;32m      3\u001b[0m \u001b[0mplt\u001b[0m\u001b[0;34m.\u001b[0m\u001b[0mimshow\u001b[0m\u001b[0;34m(\u001b[0m\u001b[0mtestimg\u001b[0m\u001b[0;34m)\u001b[0m\u001b[0;34m\u001b[0m\u001b[0m\n\u001b[1;32m      4\u001b[0m \u001b[0mplt\u001b[0m\u001b[0;34m.\u001b[0m\u001b[0mshow\u001b[0m\u001b[0;34m(\u001b[0m\u001b[0;34m)\u001b[0m\u001b[0;34m\u001b[0m\u001b[0m\n",
      "\u001b[0;32m/usr/local/lib/python3.5/dist-packages/matplotlib/pyplot.py\u001b[0m in \u001b[0;36mimread\u001b[0;34m(*args, **kwargs)\u001b[0m\n\u001b[1;32m   2313\u001b[0m \u001b[0;34m@\u001b[0m\u001b[0mdocstring\u001b[0m\u001b[0;34m.\u001b[0m\u001b[0mcopy_dedent\u001b[0m\u001b[0;34m(\u001b[0m\u001b[0m_imread\u001b[0m\u001b[0;34m)\u001b[0m\u001b[0;34m\u001b[0m\u001b[0m\n\u001b[1;32m   2314\u001b[0m \u001b[0;32mdef\u001b[0m \u001b[0mimread\u001b[0m\u001b[0;34m(\u001b[0m\u001b[0;34m*\u001b[0m\u001b[0margs\u001b[0m\u001b[0;34m,\u001b[0m \u001b[0;34m**\u001b[0m\u001b[0mkwargs\u001b[0m\u001b[0;34m)\u001b[0m\u001b[0;34m:\u001b[0m\u001b[0;34m\u001b[0m\u001b[0m\n\u001b[0;32m-> 2315\u001b[0;31m     \u001b[0;32mreturn\u001b[0m \u001b[0m_imread\u001b[0m\u001b[0;34m(\u001b[0m\u001b[0;34m*\u001b[0m\u001b[0margs\u001b[0m\u001b[0;34m,\u001b[0m \u001b[0;34m**\u001b[0m\u001b[0mkwargs\u001b[0m\u001b[0;34m)\u001b[0m\u001b[0;34m\u001b[0m\u001b[0m\n\u001b[0m\u001b[1;32m   2316\u001b[0m \u001b[0;34m\u001b[0m\u001b[0m\n\u001b[1;32m   2317\u001b[0m \u001b[0;34m\u001b[0m\u001b[0m\n",
      "\u001b[0;32m/usr/local/lib/python3.5/dist-packages/matplotlib/image.py\u001b[0m in \u001b[0;36mimread\u001b[0;34m(fname, format)\u001b[0m\n\u001b[1;32m   1247\u001b[0m                 \u001b[0;32mreturn\u001b[0m \u001b[0mhandler\u001b[0m\u001b[0;34m(\u001b[0m\u001b[0mfd\u001b[0m\u001b[0;34m)\u001b[0m\u001b[0;34m\u001b[0m\u001b[0m\n\u001b[1;32m   1248\u001b[0m     \u001b[0;32melse\u001b[0m\u001b[0;34m:\u001b[0m\u001b[0;34m\u001b[0m\u001b[0m\n\u001b[0;32m-> 1249\u001b[0;31m         \u001b[0;32mreturn\u001b[0m \u001b[0mhandler\u001b[0m\u001b[0;34m(\u001b[0m\u001b[0mfname\u001b[0m\u001b[0;34m)\u001b[0m\u001b[0;34m\u001b[0m\u001b[0m\n\u001b[0m\u001b[1;32m   1250\u001b[0m \u001b[0;34m\u001b[0m\u001b[0m\n\u001b[1;32m   1251\u001b[0m \u001b[0;34m\u001b[0m\u001b[0m\n",
      "\u001b[0;31mTypeError\u001b[0m: Object does not appear to be a 8-bit string path or a Python file-like object"
     ]
    }
   ],
   "source": [
    "testimg = testimg.reshape([32,32,3])\n",
    "plt.imshow(testimg)\n",
    "plt.show()"
   ]
  },
  {
   "cell_type": "code",
   "execution_count": 46,
   "metadata": {
    "collapsed": false
   },
   "outputs": [
    {
     "ename": "AttributeError",
     "evalue": "'numpy.ndarray' object has no attribute 'read'",
     "output_type": "error",
     "traceback": [
      "\u001b[0;31m---------------------------------------------------------------------------\u001b[0m",
      "\u001b[0;31mAttributeError\u001b[0m                            Traceback (most recent call last)",
      "\u001b[0;32m/usr/local/lib/python3.5/dist-packages/PIL/Image.py\u001b[0m in \u001b[0;36mopen\u001b[0;34m(fp, mode)\u001b[0m\n\u001b[1;32m   2314\u001b[0m     \u001b[0;32mtry\u001b[0m\u001b[0;34m:\u001b[0m\u001b[0;34m\u001b[0m\u001b[0m\n\u001b[0;32m-> 2315\u001b[0;31m         \u001b[0mfp\u001b[0m\u001b[0;34m.\u001b[0m\u001b[0mseek\u001b[0m\u001b[0;34m(\u001b[0m\u001b[0;36m0\u001b[0m\u001b[0;34m)\u001b[0m\u001b[0;34m\u001b[0m\u001b[0m\n\u001b[0m\u001b[1;32m   2316\u001b[0m     \u001b[0;32mexcept\u001b[0m \u001b[0;34m(\u001b[0m\u001b[0mAttributeError\u001b[0m\u001b[0;34m,\u001b[0m \u001b[0mio\u001b[0m\u001b[0;34m.\u001b[0m\u001b[0mUnsupportedOperation\u001b[0m\u001b[0;34m)\u001b[0m\u001b[0;34m:\u001b[0m\u001b[0;34m\u001b[0m\u001b[0m\n",
      "\u001b[0;31mAttributeError\u001b[0m: 'numpy.ndarray' object has no attribute 'seek'",
      "\nDuring handling of the above exception, another exception occurred:\n",
      "\u001b[0;31mAttributeError\u001b[0m                            Traceback (most recent call last)",
      "\u001b[0;32m<ipython-input-46-c0add8e49e2b>\u001b[0m in \u001b[0;36m<module>\u001b[0;34m()\u001b[0m\n\u001b[1;32m      3\u001b[0m \u001b[0mtestimg\u001b[0m \u001b[0;34m=\u001b[0m \u001b[0mnp\u001b[0m\u001b[0;34m.\u001b[0m\u001b[0marray\u001b[0m\u001b[0;34m(\u001b[0m\u001b[0mtestdata\u001b[0m\u001b[0;34m[\u001b[0m\u001b[0;34m'data'\u001b[0m\u001b[0;34m]\u001b[0m\u001b[0;34m[\u001b[0m\u001b[0;36m200\u001b[0m\u001b[0;34m]\u001b[0m\u001b[0;34m)\u001b[0m\u001b[0;34m\u001b[0m\u001b[0m\n\u001b[1;32m      4\u001b[0m \u001b[0mtestimg\u001b[0m \u001b[0;34m=\u001b[0m \u001b[0mtestdata\u001b[0m\u001b[0;34m[\u001b[0m\u001b[0;34m'data'\u001b[0m\u001b[0;34m]\u001b[0m\u001b[0;34m[\u001b[0m\u001b[0;36m200\u001b[0m\u001b[0;34m]\u001b[0m\u001b[0;34m\u001b[0m\u001b[0m\n\u001b[0;32m----> 5\u001b[0;31m \u001b[0mndimage\u001b[0m\u001b[0;34m.\u001b[0m\u001b[0mimread\u001b[0m\u001b[0;34m(\u001b[0m\u001b[0mtestimg\u001b[0m\u001b[0;34m)\u001b[0m\u001b[0;34m\u001b[0m\u001b[0m\n\u001b[0m",
      "\u001b[0;32m/usr/local/lib/python3.5/dist-packages/scipy/ndimage/io.py\u001b[0m in \u001b[0;36mimread\u001b[0;34m(fname, flatten, mode)\u001b[0m\n\u001b[1;32m     22\u001b[0m \u001b[0;32mdef\u001b[0m \u001b[0mimread\u001b[0m\u001b[0;34m(\u001b[0m\u001b[0mfname\u001b[0m\u001b[0;34m,\u001b[0m \u001b[0mflatten\u001b[0m\u001b[0;34m=\u001b[0m\u001b[0;32mFalse\u001b[0m\u001b[0;34m,\u001b[0m \u001b[0mmode\u001b[0m\u001b[0;34m=\u001b[0m\u001b[0;32mNone\u001b[0m\u001b[0;34m)\u001b[0m\u001b[0;34m:\u001b[0m\u001b[0;34m\u001b[0m\u001b[0m\n\u001b[1;32m     23\u001b[0m     \u001b[0;32mif\u001b[0m \u001b[0m_have_pil\u001b[0m\u001b[0;34m:\u001b[0m\u001b[0;34m\u001b[0m\u001b[0m\n\u001b[0;32m---> 24\u001b[0;31m         \u001b[0;32mreturn\u001b[0m \u001b[0m_imread\u001b[0m\u001b[0;34m(\u001b[0m\u001b[0mfname\u001b[0m\u001b[0;34m,\u001b[0m \u001b[0mflatten\u001b[0m\u001b[0;34m,\u001b[0m \u001b[0mmode\u001b[0m\u001b[0;34m)\u001b[0m\u001b[0;34m\u001b[0m\u001b[0m\n\u001b[0m\u001b[1;32m     25\u001b[0m     raise ImportError(\"Could not import the Python Imaging Library (PIL)\"\n\u001b[1;32m     26\u001b[0m                       \u001b[0;34m\" required to load image files.  Please refer to\"\u001b[0m\u001b[0;34m\u001b[0m\u001b[0m\n",
      "\u001b[0;32m/usr/local/lib/python3.5/dist-packages/scipy/misc/pilutil.py\u001b[0m in \u001b[0;36mimread\u001b[0;34m(name, flatten, mode)\u001b[0m\n\u001b[1;32m    152\u001b[0m     \"\"\"\n\u001b[1;32m    153\u001b[0m \u001b[0;34m\u001b[0m\u001b[0m\n\u001b[0;32m--> 154\u001b[0;31m     \u001b[0mim\u001b[0m \u001b[0;34m=\u001b[0m \u001b[0mImage\u001b[0m\u001b[0;34m.\u001b[0m\u001b[0mopen\u001b[0m\u001b[0;34m(\u001b[0m\u001b[0mname\u001b[0m\u001b[0;34m)\u001b[0m\u001b[0;34m\u001b[0m\u001b[0m\n\u001b[0m\u001b[1;32m    155\u001b[0m     \u001b[0;32mreturn\u001b[0m \u001b[0mfromimage\u001b[0m\u001b[0;34m(\u001b[0m\u001b[0mim\u001b[0m\u001b[0;34m,\u001b[0m \u001b[0mflatten\u001b[0m\u001b[0;34m=\u001b[0m\u001b[0mflatten\u001b[0m\u001b[0;34m,\u001b[0m \u001b[0mmode\u001b[0m\u001b[0;34m=\u001b[0m\u001b[0mmode\u001b[0m\u001b[0;34m)\u001b[0m\u001b[0;34m\u001b[0m\u001b[0m\n\u001b[1;32m    156\u001b[0m \u001b[0;34m\u001b[0m\u001b[0m\n",
      "\u001b[0;32m/usr/local/lib/python3.5/dist-packages/PIL/Image.py\u001b[0m in \u001b[0;36mopen\u001b[0;34m(fp, mode)\u001b[0m\n\u001b[1;32m   2315\u001b[0m         \u001b[0mfp\u001b[0m\u001b[0;34m.\u001b[0m\u001b[0mseek\u001b[0m\u001b[0;34m(\u001b[0m\u001b[0;36m0\u001b[0m\u001b[0;34m)\u001b[0m\u001b[0;34m\u001b[0m\u001b[0m\n\u001b[1;32m   2316\u001b[0m     \u001b[0;32mexcept\u001b[0m \u001b[0;34m(\u001b[0m\u001b[0mAttributeError\u001b[0m\u001b[0;34m,\u001b[0m \u001b[0mio\u001b[0m\u001b[0;34m.\u001b[0m\u001b[0mUnsupportedOperation\u001b[0m\u001b[0;34m)\u001b[0m\u001b[0;34m:\u001b[0m\u001b[0;34m\u001b[0m\u001b[0m\n\u001b[0;32m-> 2317\u001b[0;31m         \u001b[0mfp\u001b[0m \u001b[0;34m=\u001b[0m \u001b[0mio\u001b[0m\u001b[0;34m.\u001b[0m\u001b[0mBytesIO\u001b[0m\u001b[0;34m(\u001b[0m\u001b[0mfp\u001b[0m\u001b[0;34m.\u001b[0m\u001b[0mread\u001b[0m\u001b[0;34m(\u001b[0m\u001b[0;34m)\u001b[0m\u001b[0;34m)\u001b[0m\u001b[0;34m\u001b[0m\u001b[0m\n\u001b[0m\u001b[1;32m   2318\u001b[0m \u001b[0;34m\u001b[0m\u001b[0m\n\u001b[1;32m   2319\u001b[0m     \u001b[0mprefix\u001b[0m \u001b[0;34m=\u001b[0m \u001b[0mfp\u001b[0m\u001b[0;34m.\u001b[0m\u001b[0mread\u001b[0m\u001b[0;34m(\u001b[0m\u001b[0;36m16\u001b[0m\u001b[0;34m)\u001b[0m\u001b[0;34m\u001b[0m\u001b[0m\n",
      "\u001b[0;31mAttributeError\u001b[0m: 'numpy.ndarray' object has no attribute 'read'"
     ]
    }
   ],
   "source": [
    "from scipy import ndimage\n",
    "import numpy as np\n",
    "testimg = np.array(testdata['data'][200])\n",
    "testimg = testdata['data'][200]\n",
    "ndimage.imread(testimg)"
   ]
  },
  {
   "cell_type": "code",
   "execution_count": 68,
   "metadata": {
    "collapsed": false
   },
   "outputs": [
    {
     "ename": "RuntimeError",
     "evalue": "Attempted to use a closed Session.",
     "output_type": "error",
     "traceback": [
      "\u001b[0;31m---------------------------------------------------------------------------\u001b[0m",
      "\u001b[0;31mRuntimeError\u001b[0m                              Traceback (most recent call last)",
      "\u001b[0;32m<ipython-input-68-7719eabc370d>\u001b[0m in \u001b[0;36m<module>\u001b[0;34m()\u001b[0m\n\u001b[1;32m      4\u001b[0m \u001b[0mimage\u001b[0m \u001b[0;34m=\u001b[0m \u001b[0mndimage\u001b[0m\u001b[0;34m.\u001b[0m\u001b[0mimread\u001b[0m\u001b[0;34m(\u001b[0m\u001b[0mfilename\u001b[0m\u001b[0;34m)\u001b[0m\u001b[0;34m\u001b[0m\u001b[0m\n\u001b[1;32m      5\u001b[0m \u001b[0mfeed_dict\u001b[0m \u001b[0;34m=\u001b[0m \u001b[0;34m{\u001b[0m\u001b[0minputs\u001b[0m\u001b[0;34m:\u001b[0m \u001b[0;34m[\u001b[0m\u001b[0mimage\u001b[0m\u001b[0;34m]\u001b[0m\u001b[0;34m}\u001b[0m\u001b[0;34m\u001b[0m\u001b[0m\n\u001b[0;32m----> 6\u001b[0;31m \u001b[0mguess\u001b[0m \u001b[0;34m=\u001b[0m \u001b[0msess\u001b[0m\u001b[0;34m.\u001b[0m\u001b[0mrun\u001b[0m\u001b[0;34m(\u001b[0m\u001b[0mprediction\u001b[0m\u001b[0;34m,\u001b[0m \u001b[0mfeed_dict\u001b[0m\u001b[0;34m=\u001b[0m\u001b[0mfeed_dict\u001b[0m\u001b[0;34m)\u001b[0m\u001b[0;34m\u001b[0m\u001b[0m\n\u001b[0m\u001b[1;32m      7\u001b[0m \u001b[0;32mif\u001b[0m \u001b[0mguess\u001b[0m\u001b[0;34m[\u001b[0m\u001b[0;36m0\u001b[0m\u001b[0;34m]\u001b[0m \u001b[0;34m==\u001b[0m \u001b[0;36m1\u001b[0m\u001b[0;34m:\u001b[0m\u001b[0;34m\u001b[0m\u001b[0m\n\u001b[1;32m      8\u001b[0m     \u001b[0mprint\u001b[0m\u001b[0;34m(\u001b[0m\u001b[0;34m'Guess: hamster'\u001b[0m\u001b[0;34m)\u001b[0m\u001b[0;34m\u001b[0m\u001b[0m\n",
      "\u001b[0;32m/usr/local/lib/python3.5/dist-packages/tensorflow/python/client/session.py\u001b[0m in \u001b[0;36mrun\u001b[0;34m(self, fetches, feed_dict, options, run_metadata)\u001b[0m\n\u001b[1;32m    765\u001b[0m     \u001b[0;32mtry\u001b[0m\u001b[0;34m:\u001b[0m\u001b[0;34m\u001b[0m\u001b[0m\n\u001b[1;32m    766\u001b[0m       result = self._run(None, fetches, feed_dict, options_ptr,\n\u001b[0;32m--> 767\u001b[0;31m                          run_metadata_ptr)\n\u001b[0m\u001b[1;32m    768\u001b[0m       \u001b[0;32mif\u001b[0m \u001b[0mrun_metadata\u001b[0m\u001b[0;34m:\u001b[0m\u001b[0;34m\u001b[0m\u001b[0m\n\u001b[1;32m    769\u001b[0m         \u001b[0mproto_data\u001b[0m \u001b[0;34m=\u001b[0m \u001b[0mtf_session\u001b[0m\u001b[0;34m.\u001b[0m\u001b[0mTF_GetBuffer\u001b[0m\u001b[0;34m(\u001b[0m\u001b[0mrun_metadata_ptr\u001b[0m\u001b[0;34m)\u001b[0m\u001b[0;34m\u001b[0m\u001b[0m\n",
      "\u001b[0;32m/usr/local/lib/python3.5/dist-packages/tensorflow/python/client/session.py\u001b[0m in \u001b[0;36m_run\u001b[0;34m(self, handle, fetches, feed_dict, options, run_metadata)\u001b[0m\n\u001b[1;32m    901\u001b[0m     \u001b[0;31m# Check session.\u001b[0m\u001b[0;34m\u001b[0m\u001b[0;34m\u001b[0m\u001b[0m\n\u001b[1;32m    902\u001b[0m     \u001b[0;32mif\u001b[0m \u001b[0mself\u001b[0m\u001b[0;34m.\u001b[0m\u001b[0m_closed\u001b[0m\u001b[0;34m:\u001b[0m\u001b[0;34m\u001b[0m\u001b[0m\n\u001b[0;32m--> 903\u001b[0;31m       \u001b[0;32mraise\u001b[0m \u001b[0mRuntimeError\u001b[0m\u001b[0;34m(\u001b[0m\u001b[0;34m'Attempted to use a closed Session.'\u001b[0m\u001b[0;34m)\u001b[0m\u001b[0;34m\u001b[0m\u001b[0m\n\u001b[0m\u001b[1;32m    904\u001b[0m     \u001b[0;32mif\u001b[0m \u001b[0mself\u001b[0m\u001b[0;34m.\u001b[0m\u001b[0mgraph\u001b[0m\u001b[0;34m.\u001b[0m\u001b[0mversion\u001b[0m \u001b[0;34m==\u001b[0m \u001b[0;36m0\u001b[0m\u001b[0;34m:\u001b[0m\u001b[0;34m\u001b[0m\u001b[0m\n\u001b[1;32m    905\u001b[0m       raise RuntimeError('The Session graph is empty.  Add operations to the '\n",
      "\u001b[0;31mRuntimeError\u001b[0m: Attempted to use a closed Session."
     ]
    }
   ],
   "source": [
    "# Spot check!\n",
    "#filename = random.choice(valid_data)\n",
    "filename = 'data/apple/apple_s_000022.png'\n",
    "image = ndimage.imread(filename)\n",
    "feed_dict = {inputs: [image]}\n",
    "guess = sess.run(prediction, feed_dict=feed_dict)\n",
    "if guess[0] == 1:\n",
    "    print('Guess: hamster')\n",
    "else:\n",
    "    print('Guess: hare')\n",
    "plt.imshow(image)\n",
    "plt.show()"
   ]
  },
  {
   "cell_type": "code",
   "execution_count": null,
   "metadata": {
    "collapsed": true
   },
   "outputs": [],
   "source": []
  }
 ],
 "metadata": {
  "kernelspec": {
   "display_name": "Python 3",
   "language": "python",
   "name": "python3"
  },
  "language_info": {
   "codemirror_mode": {
    "name": "ipython",
    "version": 3
   },
   "file_extension": ".py",
   "mimetype": "text/x-python",
   "name": "python",
   "nbconvert_exporter": "python",
   "pygments_lexer": "ipython3",
   "version": "3.6.0"
  }
 },
 "nbformat": 4,
 "nbformat_minor": 2
}
